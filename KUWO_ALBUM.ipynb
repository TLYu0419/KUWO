{
 "cells": [
  {
   "cell_type": "markdown",
   "metadata": {},
   "source": [
    "# 酷我音樂\n",
    "- 下載酷我音樂平台上電台的「專輯」音檔"
   ]
  },
  {
   "cell_type": "markdown",
   "metadata": {},
   "source": [
    "# 載入套件"
   ]
  },
  {
   "cell_type": "code",
   "execution_count": 1,
   "metadata": {
    "ExecuteTime": {
     "end_time": "2021-02-14T02:21:11.391758Z",
     "start_time": "2021-02-14T02:21:11.219167Z"
    }
   },
   "outputs": [],
   "source": [
    "import re\n",
    "import os\n",
    "import time\n",
    "import requests\n",
    "from bs4 import BeautifulSoup"
   ]
  },
  {
   "cell_type": "markdown",
   "metadata": {},
   "source": [
    "# 設定爬蟲參數"
   ]
  },
  {
   "cell_type": "code",
   "execution_count": 2,
   "metadata": {
    "ExecuteTime": {
     "end_time": "2021-02-14T02:21:12.787528Z",
     "start_time": "2021-02-14T02:21:12.784281Z"
    }
   },
   "outputs": [],
   "source": [
    "headers = {'User-Agent': 'Mozilla/5.0 (Windows NT 10.0; Win64; x64) AppleWebKit/537.36 (KHTML, like Gecko) Chrome/88.0.4324.150 Safari/537.36 Edg/88.0.705.63',\n",
    "           'Cookie': '_ga=GA1.2.841063431.1603504850; Hm_lvt_cdb524f42f0ce19b169a8071123a4797=1611556993; _gid=GA1.2.997533225.1613194048; Hm_lpvt_cdb524f42f0ce19b169a8071123a4797=1613194071; kw_token=UCMBLA99FF',\n",
    "           'referer': 'http://www.kuwo.cn/',\n",
    "           'If-Range': '6023dfa9-8d7179',\n",
    "           'Sec-Fetch-Dest': 'video',\n",
    "           'Sec-Fetch-Mode': 'no-cors',\n",
    "           'Sec-Fetch-Site': 'cross-site',\n",
    "           'csrf': 'UCMBLA99FF'}"
   ]
  },
  {
   "cell_type": "markdown",
   "metadata": {},
   "source": [
    "# 爬取資料"
   ]
  },
  {
   "cell_type": "markdown",
   "metadata": {},
   "source": [
    "## 蒐集連結清單"
   ]
  },
  {
   "cell_type": "code",
   "execution_count": 3,
   "metadata": {
    "ExecuteTime": {
     "end_time": "2021-02-14T02:22:14.464342Z",
     "start_time": "2021-02-14T02:21:13.870686Z"
    }
   },
   "outputs": [
    {
     "name": "stdout",
     "output_type": "stream",
     "text": [
      "1 :  30\n",
      "2 :  60\n",
      "status_code:  504 , Retry\n",
      "status_code:  504 , Retry\n",
      "status_code:  504 , Retry\n",
      "3 :  90\n",
      "4 :  120\n",
      "status_code:  504 , Retry\n",
      "5 :  150\n",
      "6 :  180\n",
      "7 :  210\n",
      "8 :  240\n",
      "9 :  270\n",
      "10 :  300\n",
      "11 :  330\n",
      "12 :  360\n",
      "13 :  390\n",
      "14 :  420\n",
      "status_code:  504 , Retry\n",
      "15 :  450\n",
      "16 :  480\n",
      "17 :  510\n",
      "18 :  540\n",
      "19 :  570\n",
      "status_code:  504 , Retry\n",
      "20 :  600\n",
      "21 :  630\n",
      "22 :  660\n",
      "23 :  690\n",
      "24 :  720\n",
      "status_code:  504 , Retry\n",
      "25 :  750\n",
      "26 :  780\n",
      "27 :  810\n",
      "28 :  840\n",
      "status_code:  504 , Retry\n",
      "29 :  870\n",
      "30 :  900\n",
      "31 :  915\n",
      "There are totally 915 links!\n"
     ]
    }
   ],
   "source": [
    "page = 1\n",
    "links = []\n",
    "\n",
    "while True:\n",
    "    # 生成網址\n",
    "    url = 'http://www.kuwo.cn/api/www/album/albumInfo?albumId=547562&pn={}&rn=30'.format(page)\n",
    "    \n",
    "    # 請求資料\n",
    "    resp = requests.get(url, headers=headers)\n",
    "    time.sleep(0.5)\n",
    "    try:\n",
    "        musicList = [i['rid'] for i in resp.json()['data']['musicList']]\n",
    "\n",
    "        # 保存資訊\n",
    "        links += musicList\n",
    "\n",
    "        # 輸出資料擷取進度\n",
    "        print(page, ': ', len(list(set(links))))\n",
    "\n",
    "        # 判斷是否跳出迴圈\n",
    "        page += 1\n",
    "        if len(musicList) < 30:\n",
    "            links = list(set(links))\n",
    "            print('There are totally {} links!'.format(len(links)))\n",
    "            break\n",
    "    except:\n",
    "        print('status_code: ', resp.status_code, ', Retry')"
   ]
  },
  {
   "cell_type": "markdown",
   "metadata": {},
   "source": [
    "# 下載連結音檔"
   ]
  },
  {
   "cell_type": "code",
   "execution_count": 4,
   "metadata": {
    "ExecuteTime": {
     "end_time": "2021-02-14T02:22:14.540541Z",
     "start_time": "2021-02-14T02:22:14.536551Z"
    }
   },
   "outputs": [],
   "source": [
    "# os.mkdir('./musics')"
   ]
  },
  {
   "cell_type": "code",
   "execution_count": 5,
   "metadata": {
    "ExecuteTime": {
     "end_time": "2021-02-14T02:22:14.635288Z",
     "start_time": "2021-02-14T02:22:14.614344Z"
    }
   },
   "outputs": [
    {
     "data": {
      "text/plain": [
       "907"
      ]
     },
     "execution_count": 5,
     "metadata": {},
     "output_type": "execute_result"
    }
   ],
   "source": [
    "# 已下載的音樂清單\n",
    "download_list = [int(i.split('_',-1)[0]) for i in os.listdir('./musics')]\n",
    "len(download_list)"
   ]
  },
  {
   "cell_type": "code",
   "execution_count": 6,
   "metadata": {
    "ExecuteTime": {
     "end_time": "2021-02-14T02:22:14.729037Z",
     "start_time": "2021-02-14T02:22:14.713079Z"
    }
   },
   "outputs": [
    {
     "data": {
      "text/plain": [
       "8"
      ]
     },
     "execution_count": 6,
     "metadata": {},
     "output_type": "execute_result"
    }
   ],
   "source": [
    "# 排除已下載的音樂\n",
    "links = [link  for link in links if link not in download_list]\n",
    "len(links)"
   ]
  },
  {
   "cell_type": "code",
   "execution_count": 7,
   "metadata": {
    "ExecuteTime": {
     "end_time": "2021-02-14T02:27:30.944930Z",
     "start_time": "2021-02-14T02:25:04.591779Z"
    }
   },
   "outputs": [
    {
     "name": "stdout",
     "output_type": "stream",
     "text": [
      "Succed:  7090145 请你不要告诉我，你最爱的人不是我(一个人听)_蕊希Erin_单曲在线试听_酷我音乐\n",
      "Succed:  7090146 为什么，你就不喜欢我了(一个人听)_蕊希Erin_单曲在线试听_酷我音乐\n",
      "Succed:  76240867 ”我不是傻，只是懒得计较”_蕊希Erin_单曲在线试听_酷我音乐\n",
      "Succed:  83795941 你有多久没对另一半说我爱你了？_蕊希Erin_单曲在线试听_酷我音乐\n",
      "Succed:  57690089 会有人拿着戒指对你笑，说余生请多指教。 (节目)_蕊希Erin_单曲在线试听_酷我音乐\n",
      "Succed:  57151470 ” 我月薪三万，拒绝给女友买两万的包。 ”_蕊希__单曲在线试听_酷我音乐\n",
      "Succed:  148090871 总有人在偷偷羡慕你_蕊希Erin_单曲在线试听_酷我音乐\n",
      "Succed:  41351166 “我们再也不会互道晚安”_蕊希Erin_单曲在线试听_酷我音乐\n"
     ]
    }
   ],
   "source": [
    "for link in links:\n",
    "    # 取音檔摘要\n",
    "    url = 'http://www.kuwo.cn/play_detail/{}'.format(link)\n",
    "    resp = requests.get(url, headers=headers)\n",
    "    soup = BeautifulSoup(resp.text)\n",
    "\n",
    "    time.sleep(3)\n",
    "    music_name = soup.find('title').text\n",
    "    music_name = re.sub(r'/|', '', music_name)\n",
    "    music_uploadtime = soup.find('span', {'class':'time'}).text\n",
    "    \n",
    "    # 取音檔連結\n",
    "    music_link = 'http://www.kuwo.cn/url?format=mp3&rid={}&response=url&type=convert_url3&br=128kmp3'.format(link)\n",
    "    try:\n",
    "        music_link = requests.get(music_link).json()['url']\n",
    "    except:\n",
    "        time.sleep(1)\n",
    "        music_link = requests.get(music_link).json()['url']\n",
    "    # 下載音檔\n",
    "    music_content = requests.get(url=music_link).content\n",
    "    with open('./musics/{}.mp3'.format(str(link) + '_' + music_name), 'wb') as f:\n",
    "        f.write(music_content)\n",
    "        print('Succed: ', link, music_name)"
   ]
  },
  {
   "cell_type": "markdown",
   "metadata": {},
   "source": [
    "# 異常狀況排除\n",
    "- 通常是檔案名稱有非法字元，或者request的速度過快被擋~"
   ]
  },
  {
   "cell_type": "code",
   "execution_count": 9,
   "metadata": {
    "ExecuteTime": {
     "end_time": "2021-02-13T09:11:40.074031Z",
     "start_time": "2021-02-13T09:11:40.058120Z"
    }
   },
   "outputs": [
    {
     "data": {
      "text/plain": [
       "'蕊希专访 | 杜海涛：爱你这件事，不是说说而已_蕊希Erin_单曲在线试听_酷我音乐'"
      ]
     },
     "execution_count": 9,
     "metadata": {},
     "output_type": "execute_result"
    }
   ],
   "source": [
    "soup.find('title').text"
   ]
  },
  {
   "cell_type": "code",
   "execution_count": 25,
   "metadata": {
    "ExecuteTime": {
     "end_time": "2021-02-13T08:53:49.013780Z",
     "start_time": "2021-02-13T08:53:48.312599Z"
    }
   },
   "outputs": [
    {
     "data": {
      "text/plain": [
       "'https://sj-sycdn.kuwo.cn/0d9d21422d52d1dc95e2633821083e78/6027939d/resource/n1/76/94/3229346901.mp3'"
      ]
     },
     "execution_count": 25,
     "metadata": {},
     "output_type": "execute_result"
    }
   ],
   "source": [
    "requests.get(music_link).json()['url']"
   ]
  },
  {
   "cell_type": "code",
   "execution_count": 16,
   "metadata": {
    "ExecuteTime": {
     "end_time": "2021-02-14T01:22:38.405618Z",
     "start_time": "2021-02-14T01:22:38.401629Z"
    }
   },
   "outputs": [],
   "source": [
    "music_name = '66823804_蕊希专访 陈乔恩：爱自己，是终身浪漫的开始_蕊希Erin_单曲在线试听_酷我音乐.mp3'"
   ]
  },
  {
   "cell_type": "code",
   "execution_count": 17,
   "metadata": {
    "ExecuteTime": {
     "end_time": "2021-02-14T01:22:39.173568Z",
     "start_time": "2021-02-14T01:22:39.163629Z"
    }
   },
   "outputs": [],
   "source": [
    "with open('./musics/{}.mp3'.format(str(link) + '_' + music_name), 'wb') as f:\n",
    "    f.write(music_content)"
   ]
  },
  {
   "cell_type": "code",
   "execution_count": null,
   "metadata": {},
   "outputs": [],
   "source": []
  }
 ],
 "metadata": {
  "kernelspec": {
   "display_name": "Python 3",
   "language": "python",
   "name": "python3"
  },
  "toc": {
   "base_numbering": 1,
   "nav_menu": {},
   "number_sections": true,
   "sideBar": true,
   "skip_h1_title": false,
   "title_cell": "Table of Contents",
   "title_sidebar": "Contents",
   "toc_cell": false,
   "toc_position": {},
   "toc_section_display": true,
   "toc_window_display": true
  },
  "varInspector": {
   "cols": {
    "lenName": 16,
    "lenType": 16,
    "lenVar": 40
   },
   "kernels_config": {
    "python": {
     "delete_cmd_postfix": "",
     "delete_cmd_prefix": "del ",
     "library": "var_list.py",
     "varRefreshCmd": "print(var_dic_list())"
    },
    "r": {
     "delete_cmd_postfix": ") ",
     "delete_cmd_prefix": "rm(",
     "library": "var_list.r",
     "varRefreshCmd": "cat(var_dic_list()) "
    }
   },
   "types_to_exclude": [
    "module",
    "function",
    "builtin_function_or_method",
    "instance",
    "_Feature"
   ],
   "window_display": false
  }
 },
 "nbformat": 4,
 "nbformat_minor": 4
}
